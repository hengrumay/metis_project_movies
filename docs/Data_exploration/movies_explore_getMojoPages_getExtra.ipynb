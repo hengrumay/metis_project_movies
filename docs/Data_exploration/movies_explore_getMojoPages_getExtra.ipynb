{
 "cells": [
  {
   "cell_type": "code",
   "execution_count": null,
   "metadata": {
    "collapsed": true
   },
   "outputs": [],
   "source": [
    "# Python 2 & 3 Compatibility\n",
    "from __future__ import print_function, division"
   ]
  },
  {
   "cell_type": "code",
   "execution_count": null,
   "metadata": {
    "collapsed": false
   },
   "outputs": [],
   "source": [
    "import matplotlib\n",
    "% matplotlib inline"
   ]
  },
  {
   "cell_type": "code",
   "execution_count": null,
   "metadata": {
    "collapsed": false
   },
   "outputs": [],
   "source": [
    "import pandas as pd\n",
    "import numpy as np\n",
    "import datetime as dt\n",
    "\n",
    "import matplotlib.pyplot as plt\n"
   ]
  },
  {
   "cell_type": "code",
   "execution_count": null,
   "metadata": {
    "collapsed": true
   },
   "outputs": [],
   "source": [
    "from bs4 import BeautifulSoup\n",
    "import requests\n",
    "import re\n",
    "import time\n",
    "import sys"
   ]
  },
  {
   "cell_type": "code",
   "execution_count": null,
   "metadata": {
    "collapsed": false
   },
   "outputs": [],
   "source": [
    "mv_listDF=pd.read_csv('mv_chartListDF_2016_1980.csv')\n",
    "mv_listDF.columns"
   ]
  },
  {
   "cell_type": "code",
   "execution_count": null,
   "metadata": {
    "collapsed": false
   },
   "outputs": [],
   "source": [
    "DF=mv_listDF.drop(['Unnamed: 0'],axis=1)\n",
    "DF"
   ]
  },
  {
   "cell_type": "code",
   "execution_count": null,
   "metadata": {
    "collapsed": true
   },
   "outputs": [],
   "source": []
  },
  {
   "cell_type": "code",
   "execution_count": null,
   "metadata": {
    "collapsed": false
   },
   "outputs": [],
   "source": [
    "# DF.shape[0], \n",
    "# len(DF)/1000 #14.258"
   ]
  },
  {
   "cell_type": "code",
   "execution_count": null,
   "metadata": {
    "collapsed": true
   },
   "outputs": [],
   "source": []
  },
  {
   "cell_type": "code",
   "execution_count": null,
   "metadata": {
    "collapsed": true
   },
   "outputs": [],
   "source": []
  },
  {
   "cell_type": "code",
   "execution_count": null,
   "metadata": {
    "collapsed": true
   },
   "outputs": [],
   "source": []
  },
  {
   "cell_type": "code",
   "execution_count": null,
   "metadata": {
    "collapsed": false
   },
   "outputs": [],
   "source": [
    "# http://www.boxofficemojo.com/movies/?id=pixar2015.htm\n",
    "\n",
    "\n",
    "# Ghostbusters (2016)\n",
    "# wikiurl= 'https://en.wikipedia.org/wiki/Ghostbusters_(2016_film)'\n",
    "# wikiurl='https://en.wikipedia.org/wiki/Star_Wars:_The_Force_Awakens'"
   ]
  },
  {
   "cell_type": "code",
   "execution_count": null,
   "metadata": {
    "collapsed": true
   },
   "outputs": [],
   "source": [
    "# AllerrorList=[] \n",
    "# del AllerrorList"
   ]
  },
  {
   "cell_type": "code",
   "execution_count": null,
   "metadata": {
    "collapsed": false,
    "scrolled": true
   },
   "outputs": [],
   "source": [
    "mv_info=[]\n",
    "errorList=[]\n",
    "\n",
    "headers = ['mID', 'mName', 'mYrank',\n",
    "           'mStudio', 'totalDGross',\n",
    "           'totalDTheatre', 'openDGross', 'openDTheatre', 'openWkdate','closeWkdate',\n",
    "           'F_gross','W_gross', 'PD_budget', 'Genre', \n",
    "           'mv_runtime', 'DURrelease', \n",
    "           'mv_Dir',\n",
    "           #'mv_Write',#'mv_Act', \n",
    "           'mv_Prod', 'mv_Comp',\n",
    "           'OscarNom','OscarInfoURL']\n",
    "\n",
    "bomjURL = 'http://www.boxofficemojo.com'\n",
    "mvIDurl = '/movies/?id='\n",
    "endURL = '.htm'\n",
    "\n",
    "   \n",
    "# for m in range(0,2): #len(DF)#range(0,len(DF)):     \n",
    "for m in range(0,len(DF)): #len(DF)#range(0,len(DF)): \n",
    "    try:\n",
    "        mvID = DF.mID[m]\n",
    "        mvName = DF.mName[m]\n",
    "        mjurl = bomjURL+mvIDurl+mvID+endURL\n",
    "        print(m)\n",
    "        #print(m, mjurl)\n",
    "\n",
    "        pgResp = requests.get(mjurl)\n",
    "        # pgResp = requests.get(url)\n",
    "        # pgResp = requests.get('http://www.boxofficemojo.com/movies/?id=pixar2015.htm')\n",
    "        # pgResp = requests.get('http://www.boxofficemojo.com/movies/?id=piecesofapril.htm')\n",
    "        # pgResp = requests.get('http://www.boxofficemojo.com/movies/?id=starwars7.htm') #(mjurl) #('http://www.boxofficemojo.com/movies/?id=pixar2015.htm')\n",
    "\n",
    "\n",
    "        if pgResp.status_code == 200: \n",
    "            soup = BeautifulSoup(pgResp.text,'lxml')\n",
    "\n",
    "\n",
    "            ForgTMP = soup.find(text = re.compile('Foreign:'))#.next.nextSibling.text.replace('\\xa0','')\n",
    "            if ForgTMP !=None: \n",
    "                ForGrossTMP = ForgTMP.next.nextSibling.text.replace('\\xa0','')\n",
    "                if ForGrossTMP.upper() != 'N/A':\n",
    "                    FGross = int(ForGrossTMP.replace('\\xa0','').replace('$','').replace(',',''))\n",
    "                else:\n",
    "                    FGross = np.nan\n",
    "            else:\n",
    "                FGross = np.nan\n",
    "\n",
    "            WGrossTMP = soup.find(text = re.compile('Worldwide:'))#.next.nextSibling.text.replace('\\xa0','')\n",
    "            if WGrossTMP !=None: \n",
    "                WorldGrossTMP = WGrossTMP.next.nextSibling.text.replace('\\xa0','')\n",
    "                if WorldGrossTMP.upper() != 'N/A':\n",
    "                    WGross = int(WorldGrossTMP.replace('\\xa0','').replace('$','').replace(',',''))\n",
    "                else:\n",
    "                    WGross = np.nan\n",
    "            else:\n",
    "                WGross = np.nan\n",
    "            WGross\n",
    "\n",
    "\n",
    "            pdtBudgetTMP = soup.find(text = re.compile('Production Budget'))\n",
    "            if pdtBudgetTMP !=None:\n",
    "                pdtBtmp = pdtBudgetTMP.nextSibling.text\n",
    "                if pdtBtmp != 'N/A':\n",
    "                    if pdtBtmp.find(' million')>=0:\n",
    "                        pdtBudget = int(pdtBtmp.split(' million')[0].replace('$','').replace('.','')+'0'*6)\n",
    "                    else:\n",
    "                        pdtBudget = int(pdtBtmp.replace('$','').replace(',',''))\n",
    "                else:\n",
    "                    pdtBudget = np.nan\n",
    "            else:\n",
    "                pdtBudget = np.nan\n",
    "\n",
    "\n",
    "            genreTMP = soup.find(text = re.compile('Genre: '))\n",
    "            if genreTMP != None:\n",
    "                genreTmp0 = genreTMP.nextSibling.text\n",
    "                if genreTmp0 != 'N/A':\n",
    "                    genre = genreTmp0\n",
    "                else:\n",
    "                    genre = np.nan\n",
    "            else:\n",
    "                genre = np.nan\n",
    "\n",
    "            runtimeTMP0 = soup.find(text = re.compile('Runtime: '))\n",
    "            if runtimeTMP0 != None:\n",
    "                runtimeTMP = runtimeTMP0.nextSibling.text\n",
    "                if runtimeTMP != 'N/A':\n",
    "                    H, tmp1,Min, tmp2 = runtimeTMP.split()\n",
    "                    runtime = (int(H)*60)+int(Min)\n",
    "                else:\n",
    "                    runtime = np.nan\n",
    "            else:\n",
    "                runtime = np.nan\n",
    "\n",
    "            RDurTMP = soup.find(text = re.compile('In Release:')) #||NoneType \n",
    "            if RDurTMP !=None:\n",
    "                ReleaseDays = int(RDurTMP.next.next.text.split()[0])\n",
    "            else:\n",
    "                ReleaseDays = np.nan\n",
    "\n",
    "            dirTMP = soup.find(text = re.compile('Director'))\n",
    "            if dirTMP != None:\n",
    "                director = dirTMP.next.text.split(' (co-director)')\n",
    "            else:\n",
    "                director = np.nan\n",
    "\n",
    "            #         writeTMP = soup.find(text = re.compile('Writer'))\n",
    "            #         if writeTMP !=None:\n",
    "            #             wtmp000 = writeTMP.next.text.replace('J.J.','Jj').replace('McC','Mcc').replace('D\\'S','Ds')\n",
    "            #             wtmp00 = wtmp000.replace('C. Strouse','Strouse').replace('D. Brown','Brown').replace('Jean-Luc','Jeanluc')\n",
    "            #             wtmp01 = wtmp00.replace('DuVall','Duvall').replace('Tim Blake','Timblake').replace('LaFauve','Lafauve')\n",
    "            #             wtmp0 = wtmp01.replace('McQ','Mcq')\n",
    "            #             writeTmp0 = re.findall('[A-Z][^A-Z]*', wtmp0)\n",
    "            #             writer = [ writeTmp0[2*(n-1)]+writeTmp0[2*(n-1)+1] for n in range(1,round(len(writeTmp0)/2)+1) ]\n",
    "            #         else:\n",
    "            #             writer = np.nan\n",
    "\n",
    "\n",
    "            #         actorsLtmp = soup.find(text = re.compile('Actor'))\n",
    "            #         if actorsLtmp.next.text.find(' (Voice)')>0:\n",
    "            #             actors = [n.split('*')[0] for n in actorsLtmp.next.text.replace(' ','').split('(Voice)')[:-1] ]\n",
    "            #         #print(actorsNs)\n",
    "            #         else:\n",
    "            #             acttmp00 = actorsLtmp.next.text.replace(' ','').replace('TJ','Tj').replace('*(Cameo)','').replace('Common','')\n",
    "            #             acttmp0 = acttmp00.replace('Smit-McPhee','Smitmcphee').replace('McC','Mcc').replace('K.W','Kw')\n",
    "            #             acttmp = acttmp0.replace('L.J','Lj').replace('n-W','nw').replace('O\\'C','Oc').replace('McG','Mcg')\n",
    "            #             acttmp = acttmp.replace('MaryElizabethWinstead','MaryelizabethWinstead').replace('JackieEarle','Jackieearle')\n",
    "            #             actors0 = re.findall('[A-Z][^A-Z]*', acttmp)\n",
    "            #             searchJR = np.array([a.find('Jr.')+1 for a in actors0])\n",
    "            #             if any(searchJR)!= False:\n",
    "            #                 # searchJR.nonzero()\n",
    "            #                 id = [i for i, x in enumerate(searchJR) if x][0]\n",
    "            #                 actors0[id-1] = actors0[id-1]+'_Jr.'\n",
    "            #                 actors0.pop(id)\n",
    "            #                 #actors0\n",
    "            #             else:\n",
    "            #                 pass\n",
    "            #             actors = [ actors0[2*(n-1)]+actors0[2*(n-1)+1] for n in range(1,round(len(actors0)/2)+1) ]\n",
    "            #             #print(actorsNs)\n",
    "\n",
    "\n",
    "            producerTMP = soup.find(text = re.compile('Producer'))\n",
    "            if producerTMP !=None:\n",
    "                prodTmp1 = producerTMP.next.find_all('a')\n",
    "                producer = [p.text.replace('(executive)','') for p in prodTmp1]\n",
    "                #proTmp0 = re.findall('[A-Z][^A-Z]*',producerTMP.next.text.replace('J.J.','Jj'))\n",
    "                #producer = [ proTmp0[2*(n-1)]+proTmp0[2*(n-1)+1] for n in range(1,round(len(proTmp0)/2)+1) ]\n",
    "            else:\n",
    "                producer = np.nan\n",
    "\n",
    "\n",
    "            compTMP = soup.find(text = re.compile('Composer'))#.next.text #|| NoneType\n",
    "            if compTMP !=None:\n",
    "                compTmp1 = compTMP.next.find_all('a')\n",
    "                composer = [p.text.replace('(executive)','') for p in compTmp1]\n",
    "                #comptmp = re.findall('[A-Z][^A-Z]*', compTMP.next.text )\n",
    "                #composer = [ comptmp[2*(n-1)]+comptmp[2*(n-1)+1] for n in range(1,round(len(comptmp)/2)+1) ]\n",
    "            else:\n",
    "                composer = np.nan\n",
    "\n",
    "\n",
    "            OawardTMP = soup.find(text = re.compile('Academy'))#.next.next.find('a')['href']  #|| NoneType\n",
    "            if OawardTMP != None:\n",
    "                OawardNom = 1\n",
    "                OinfoURL = OawardTMP.next.next.find('a')['href']\n",
    "            else:\n",
    "                OawardNom = 0\n",
    "                OinfoURL = np.nan\n",
    "\n",
    "\n",
    "            mvInfo_dict = dict(zip(headers, [mvID, mvName, DF.mYrank[m],\n",
    "                                             DF.mStudio[m], DF.totalDGross[m],\n",
    "                                             DF.totalDTheatre[m], DF.openDGross[m], DF.openDTheatre[m],\n",
    "                                             DF.openWkdate[m], DF.closeWkdate[m],\n",
    "                                             FGross, WGross, pdtBudget, genre,\n",
    "                                             runtime, ReleaseDays,\n",
    "                                             director, \n",
    "                                             #writer,#actors, \n",
    "                                             producer, composer,\n",
    "                                             OawardNom, OinfoURL]))\n",
    "            mv_info.append(mvInfo_dict)\n",
    "\n",
    "        time.sleep(0.2)\n",
    "        \n",
    "    except:\n",
    "        e = sys.exc_info()[0]\n",
    "        errorList.append((m, mjurl,e))\n",
    "        print(m, mjurl,e)\n",
    "        #write_to_page( \"<p>Error: %s</p>\" % e )\n",
    "\n",
    "    \n",
    "    \n",
    "errorListDF = pd.DataFrame(errorList, columns =['mvID','mvPgURL', 'ErrType'])\n",
    "errorListDF.to_csv('mvInfo_1-14258_ERRORS.csv')\n",
    "\n",
    "mv_infoDF = pd.DataFrame(mv_info, columns=headers)\n",
    "mv_infoDF.to_csv('mvInfo_1-14258_excludedError.csv')\n",
    "    "
   ]
  },
  {
   "cell_type": "code",
   "execution_count": null,
   "metadata": {
    "collapsed": false
   },
   "outputs": [],
   "source": []
  },
  {
   "cell_type": "code",
   "execution_count": null,
   "metadata": {
    "collapsed": true
   },
   "outputs": [],
   "source": []
  },
  {
   "cell_type": "code",
   "execution_count": null,
   "metadata": {
    "collapsed": false
   },
   "outputs": [],
   "source": [
    "mv_info[-1]"
   ]
  },
  {
   "cell_type": "code",
   "execution_count": null,
   "metadata": {
    "collapsed": false
   },
   "outputs": [],
   "source": [
    "writeTmp0\n"
   ]
  },
  {
   "cell_type": "code",
   "execution_count": null,
   "metadata": {
    "collapsed": false
   },
   "outputs": [],
   "source": [
    "len(mv_info) , len(errorList)"
   ]
  },
  {
   "cell_type": "code",
   "execution_count": null,
   "metadata": {
    "collapsed": false
   },
   "outputs": [],
   "source": [
    "# AllerrorList.append(errorList)\n",
    "# AllerrorList"
   ]
  },
  {
   "cell_type": "code",
   "execution_count": null,
   "metadata": {
    "collapsed": false
   },
   "outputs": [],
   "source": [
    "# errorList[0]\n",
    "errorListDF = pd.DataFrame(errorList, columns =['mvID','mvPgURL', 'ErrType'])"
   ]
  },
  {
   "cell_type": "code",
   "execution_count": null,
   "metadata": {
    "collapsed": true
   },
   "outputs": [],
   "source": [
    "# errorListDF.to_csv('mvInfo_1-1000_ERRORs.csv')\n",
    "errorListDF.to_csv('mvInfo_1-14258.csv')"
   ]
  },
  {
   "cell_type": "code",
   "execution_count": null,
   "metadata": {
    "collapsed": false
   },
   "outputs": [],
   "source": [
    "errorListDF"
   ]
  },
  {
   "cell_type": "code",
   "execution_count": null,
   "metadata": {
    "collapsed": true
   },
   "outputs": [],
   "source": []
  },
  {
   "cell_type": "code",
   "execution_count": null,
   "metadata": {
    "collapsed": true
   },
   "outputs": [],
   "source": [
    "mv_infoDF = pd.DataFrame(mv_info, columns=headers)"
   ]
  },
  {
   "cell_type": "code",
   "execution_count": null,
   "metadata": {
    "collapsed": false
   },
   "outputs": [],
   "source": [
    "mv_infoDF.iloc[528,:]"
   ]
  },
  {
   "cell_type": "code",
   "execution_count": null,
   "metadata": {
    "collapsed": true
   },
   "outputs": [],
   "source": [
    "# mv_infoDF.to_csv('mvInfo_1-1000_excludeError.csv')\n",
    "mv_infoDF.to_csv('mvInfo_1-14258_excludedError.csv')\n",
    "# "
   ]
  },
  {
   "cell_type": "code",
   "execution_count": null,
   "metadata": {
    "collapsed": false,
    "scrolled": false
   },
   "outputs": [],
   "source": [
    "# mv_infoDF\n",
    "# mv_infoDF.iloc[500,:]"
   ]
  },
  {
   "cell_type": "code",
   "execution_count": null,
   "metadata": {
    "collapsed": true
   },
   "outputs": [],
   "source": []
  },
  {
   "cell_type": "code",
   "execution_count": null,
   "metadata": {
    "collapsed": true
   },
   "outputs": [],
   "source": []
  },
  {
   "cell_type": "code",
   "execution_count": null,
   "metadata": {
    "collapsed": false
   },
   "outputs": [],
   "source": [
    "mv_info[1]"
   ]
  },
  {
   "cell_type": "code",
   "execution_count": null,
   "metadata": {
    "collapsed": false
   },
   "outputs": [],
   "source": [
    "# headers = ['mID', 'mName',\n",
    "#            'mStudio', 'totalDGross',\n",
    "#            'totalDTheatre', 'openDGross', 'openDTheatre', 'openWkdate','closeWkdate',\n",
    "#            'F_gross','W_gross', 'PD_budget', 'Genre', \n",
    "#            'mv_runtime', 'DURrelease', \n",
    "#            'mv_Dir','mv_Write',\n",
    "#            #'mv_Act', \n",
    "#            'mv_Prod', 'mv_Comp',\n",
    "#            'OscarNom','OscarInfoURL']\n",
    "\n",
    "# dict(zip(headers, [mvID, mvName,\n",
    "#                    DF.mStudio[m], DF.totalDGross[m],\n",
    "#                    DF.totalDTheatre[m], DF.openDGross[m], DF.openDTheatre[m],\n",
    "#                    DF.openWkdate[m], DF.closeWkdate[m], \n",
    "#                    FGross, WGross, pdtBudget, genre,\n",
    "#                    runtime, ReleaseDays,\n",
    "#                    director, writer,\n",
    "#                    #actors, \n",
    "#                    producer, composer,\n",
    "#                    OawardNom, OinfoURL]))"
   ]
  },
  {
   "cell_type": "code",
   "execution_count": null,
   "metadata": {
    "collapsed": false
   },
   "outputs": [],
   "source": [
    "# pdtBtmp"
   ]
  },
  {
   "cell_type": "code",
   "execution_count": null,
   "metadata": {
    "collapsed": false
   },
   "outputs": [],
   "source": [
    "writeTmp0"
   ]
  },
  {
   "cell_type": "code",
   "execution_count": null,
   "metadata": {
    "collapsed": true
   },
   "outputs": [],
   "source": []
  },
  {
   "cell_type": "code",
   "execution_count": null,
   "metadata": {
    "collapsed": false
   },
   "outputs": [],
   "source": [
    "# pdtBudgetTMP = soup.find(text = re.compile('Production Budget'))\n",
    "# if pdtBudgetTMP !=None:\n",
    "#     pdtBtmp = pdtBudgetTMP.nextSibling.text\n",
    "#     if pdtBtmp != 'N/A':\n",
    "#         if pdtBtmp.find(' million')>=0:\n",
    "#             pdtBudget = int(pdtBtmp.split(' million')[0].replace('$','').replace('.','')+'0'*6)\n",
    "#         else:\n",
    "#             pdtBudget = int(pdtBtmp.replace('$','').replace(',',''))\n",
    "#     else:\n",
    "#         pdtBudget = np.nan\n",
    "# else:\n",
    "#     pdtBudget = np.nan\n",
    "\n",
    "# pdtBudget"
   ]
  },
  {
   "cell_type": "code",
   "execution_count": null,
   "metadata": {
    "collapsed": false
   },
   "outputs": [],
   "source": [
    "# genreTMP = soup.find(text = re.compile('Genre: '))\n",
    "# if genreTMP != None:\n",
    "#     genreTmp0 = genreTMP.nextSibling.text\n",
    "#     if genreTmp0 != 'N/A':\n",
    "#         genre = genreTmp0\n",
    "#     else:\n",
    "#         genre = np.nan\n",
    "# else:\n",
    "#     genre = np.nan\n",
    "# genre"
   ]
  },
  {
   "cell_type": "code",
   "execution_count": null,
   "metadata": {
    "collapsed": false
   },
   "outputs": [],
   "source": [
    "writeTMP.next.text"
   ]
  },
  {
   "cell_type": "code",
   "execution_count": null,
   "metadata": {
    "collapsed": false
   },
   "outputs": [],
   "source": [
    "runtimeTMP0 = soup.find(text = re.compile('Runtime: '))\n",
    "if runtimeTMP0 != None:\n",
    "    runtimeTMP = runtimeTMP0.nextSibling.text\n",
    "    if runtimeTMP != 'N/A':\n",
    "        H, tmp1,Min, tmp2 = runtimeTMP.split()\n",
    "        runtime = (int(H)*60)+int(Min)\n",
    "    else:\n",
    "        runtime = np.nan\n",
    "else:\n",
    "    runtime = np.nan\n",
    "runtime"
   ]
  },
  {
   "cell_type": "code",
   "execution_count": null,
   "metadata": {
    "collapsed": true
   },
   "outputs": [],
   "source": []
  },
  {
   "cell_type": "code",
   "execution_count": null,
   "metadata": {
    "collapsed": true
   },
   "outputs": [],
   "source": []
  },
  {
   "cell_type": "code",
   "execution_count": null,
   "metadata": {
    "collapsed": true
   },
   "outputs": [],
   "source": []
  },
  {
   "cell_type": "code",
   "execution_count": null,
   "metadata": {
    "collapsed": true
   },
   "outputs": [],
   "source": []
  },
  {
   "cell_type": "code",
   "execution_count": null,
   "metadata": {
    "collapsed": true
   },
   "outputs": [],
   "source": []
  },
  {
   "cell_type": "code",
   "execution_count": null,
   "metadata": {
    "collapsed": true
   },
   "outputs": [],
   "source": []
  }
 ],
 "metadata": {
  "kernelspec": {
   "display_name": "Python 3",
   "language": "python",
   "name": "python3"
  },
  "language_info": {
   "codemirror_mode": {
    "name": "ipython",
    "version": 3
   },
   "file_extension": ".py",
   "mimetype": "text/x-python",
   "name": "python",
   "nbconvert_exporter": "python",
   "pygments_lexer": "ipython3",
   "version": "3.5.2"
  }
 },
 "nbformat": 4,
 "nbformat_minor": 0
}

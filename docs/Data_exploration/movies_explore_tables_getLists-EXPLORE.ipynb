{
 "cells": [
  {
   "cell_type": "code",
   "execution_count": null,
   "metadata": {
    "collapsed": true
   },
   "outputs": [],
   "source": [
    "# Python 2 & 3 Compatibility\n",
    "from __future__ import print_function, division"
   ]
  },
  {
   "cell_type": "code",
   "execution_count": null,
   "metadata": {
    "collapsed": true
   },
   "outputs": [],
   "source": [
    "import matplotlib\n",
    "% matplotlib inline"
   ]
  },
  {
   "cell_type": "code",
   "execution_count": null,
   "metadata": {
    "collapsed": true
   },
   "outputs": [],
   "source": [
    "import pandas as pd\n",
    "import numpy as np\n",
    "import datetime as dt\n",
    "\n",
    "import matplotlib.pyplot as plt\n",
    "\n",
    "# %matplotlib inline"
   ]
  },
  {
   "cell_type": "code",
   "execution_count": null,
   "metadata": {
    "collapsed": true
   },
   "outputs": [],
   "source": [
    "from bs4 import BeautifulSoup\n",
    "import requests\n",
    "import time"
   ]
  },
  {
   "cell_type": "code",
   "execution_count": null,
   "metadata": {
    "collapsed": false
   },
   "outputs": [],
   "source": [
    "# [str(i) for i in range(2016,1979,-1)]"
   ]
  },
  {
   "cell_type": "code",
   "execution_count": null,
   "metadata": {
    "collapsed": false
   },
   "outputs": [],
   "source": [
    "mvYRlist = [str(i) for i in range(2016,1979,-1)]"
   ]
  },
  {
   "cell_type": "code",
   "execution_count": null,
   "metadata": {
    "collapsed": false
   },
   "outputs": [],
   "source": [
    "len(mvYRlist)"
   ]
  },
  {
   "cell_type": "code",
   "execution_count": null,
   "metadata": {
    "collapsed": false
   },
   "outputs": [],
   "source": [
    "# http://www.boxofficemojo.com/yearly/chart/?yr=2016&p=.htm\n",
    "# http://www.boxofficemojo.com/yearly/chart/?yr=####&p=.htm\n",
    "\n",
    "# http://www.boxofficemojo.com/yearly/chart/?page=1&view=releasedate&view2=domestic&yr=2016&p=.htm    \n",
    "\n",
    "bomjURL='http://www.boxofficemojo.com'\n",
    "YRpg1viewerURL = '/yearly/chart/?page=1&view=releasedate&view2=domestic&yr='\n",
    "YRpg1endURL = '&p=.htm'\n",
    "\n",
    "YRpg1URLlist=[(bomjURL+YRpg1viewerURL+year+YRpg1endURL) for year in mvYRlist]"
   ]
  },
  {
   "cell_type": "code",
   "execution_count": null,
   "metadata": {
    "collapsed": false
   },
   "outputs": [],
   "source": [
    "len(YRpg1URLlist)"
   ]
  },
  {
   "cell_type": "code",
   "execution_count": null,
   "metadata": {
    "collapsed": false,
    "scrolled": true
   },
   "outputs": [],
   "source": [
    "YRpg1URLlist"
   ]
  },
  {
   "cell_type": "code",
   "execution_count": null,
   "metadata": {
    "collapsed": false
   },
   "outputs": [],
   "source": [
    "# pgList=[]"
   ]
  },
  {
   "cell_type": "code",
   "execution_count": null,
   "metadata": {
    "collapsed": false,
    "scrolled": false
   },
   "outputs": [],
   "source": [
    "# PGheaders = ['pgURL', 'startPg', 'endPg']\n",
    "pgList=[]\n",
    "YstartendPages=[]\n",
    "\n",
    "for y in range(0, len(YRpg1URLlist)):\n",
    "    url=YRpg1URLlist[y]\n",
    "    #print(url)\n",
    "    \n",
    "    YstartendPages.append([mvYRlist[y],1,100])\n",
    "    #pg1URL = url\n",
    "    #pg1S = 1\n",
    "    #pg1E = 100\n",
    "    \n",
    "    #pgList.append((url,'1','100'))\n",
    "    #pgList1_dict = dict(zip(PGheaders, [pg1URL, pg1S, pg1E]))\n",
    "    #pgList.append(pgList1_dict)\n",
    "    \n",
    "    pgList.append(url)\n",
    "    \n",
    "    PG1resp = requests.get(url)\n",
    "    if PG1resp.status_code==200:\n",
    "        PG1soup = BeautifulSoup(PG1resp.text,'lxml')\n",
    "        \n",
    "    pg1_tmp = PG1soup.find_all('center')[0].find_all('a')\n",
    "    \n",
    "    #     pgList = [ (bomjURL+p['href']) \n",
    "    for p in pg1_tmp:\n",
    "        pgURLs = (bomjURL+p['href'])\n",
    "        #print(pgURLs)\n",
    "        \n",
    "        pg_rangeSTR = p.text.replace('#','').replace('\\x96','')\n",
    "        pgS, pgE = (int(pg_rangeSTR[0:3]), int(pg_rangeSTR[3:7]) )\n",
    "        #print(pgS, pgE)\n",
    "        YstartendPages.append( (mvYRlist[y],pgS,pgE) )\n",
    "        \n",
    "        #pgList.append((bomjURL+p['href'],pgS, pgE))\n",
    "        #pgList_dict = dict(zip(PGheaders, [pgURLs, pgS, pgE]))    \n",
    "        #pgList.append(pgList_dict)\n",
    "        \n",
    "        pgList.append(pgURLs)\n",
    "              \n",
    "    #break"
   ]
  },
  {
   "cell_type": "code",
   "execution_count": null,
   "metadata": {
    "collapsed": false,
    "scrolled": true
   },
   "outputs": [],
   "source": [
    "mvYRlist , YstartendPages"
   ]
  },
  {
   "cell_type": "code",
   "execution_count": null,
   "metadata": {
    "collapsed": true
   },
   "outputs": [],
   "source": [
    ""
   ]
  },
  {
   "cell_type": "code",
   "execution_count": null,
   "metadata": {
    "collapsed": true
   },
   "outputs": [],
   "source": [
    ""
   ]
  },
  {
   "cell_type": "code",
   "execution_count": null,
   "metadata": {
    "collapsed": true
   },
   "outputs": [],
   "source": [
    ""
   ]
  },
  {
   "cell_type": "code",
   "execution_count": null,
   "metadata": {
    "collapsed": false
   },
   "outputs": [],
   "source": [
    "len(pgList) == len(YstartendPages) , len(YstartendPages)"
   ]
  },
  {
   "cell_type": "code",
   "execution_count": null,
   "metadata": {
    "collapsed": false
   },
   "outputs": [],
   "source": [
    "pgList"
   ]
  },
  {
   "cell_type": "code",
   "execution_count": null,
   "metadata": {
    "collapsed": false
   },
   "outputs": [],
   "source": [
    "# mv_list=[]\n",
    "pgList"
   ]
  },
  {
   "cell_type": "code",
   "execution_count": null,
   "metadata": {
    "collapsed": true
   },
   "outputs": [],
   "source": [
    "### to try to scrap table data from list of urls with start and end pg rowNos"
   ]
  },
  {
   "cell_type": "code",
   "execution_count": null,
   "metadata": {
    "collapsed": false,
    "scrolled": true
   },
   "outputs": [],
   "source": [
    "mv_list=[]\n",
    "\n",
    "headers = ['mYrank','mID', 'mName', 'mStudio', \n",
    "           'totalDGross', 'totalDTheatre', 'openDGross','openDTheatre', 'openWkdate', 'closeWkdate']\n",
    "\n",
    "\n",
    "mvCnt=0\n",
    "\n",
    "for y in range(0, len(YstartendPages)):\n",
    "    \n",
    "    Year,pgSn,pgEn = YstartendPages[y]\n",
    "    if (Year,pgSn,pgEn) == ('2016',501,530):\n",
    "        pgSn=502   \n",
    "    else:\n",
    "        pass\n",
    "    \n",
    "    mvChartNrows=pgEn-pgSn+1\n",
    "    mvCnt += mvChartNrows\n",
    "    \n",
    "    print('Retrieving ' + str(mvChartNrows) + 'rows from: ' + pgList[y])\n",
    "    pgResp = requests.get(pgList[y])\n",
    "    if pgResp.status_code == 200:\n",
    "        chartpgSoup = BeautifulSoup(pgResp.text,'lxml')\n",
    "    if int(Year) <= 2001:\n",
    "        tableInfo=chartpgSoup.find_all('table')[3].find_all('font')[13:(mvChartNrows*8)+13] ## 8 lines for each table columns *N# mvrows on pg \n",
    "   \n",
    "    else:\n",
    "        tableInfo=chartpgSoup.find_all('table')[3].find_all('font')[14:(mvChartNrows*9)+14] ## 9 lines for each table columns *N# mvrows on pg \n",
    "    \n",
    "\n",
    "    for i in range(1,mvChartNrows+1): #(1,3): #\n",
    "        if int(Year) <= 2001:  \n",
    "            mvinfo = tableInfo[8*(i-1):8*i]\n",
    "        else:\n",
    "            mvinfo = tableInfo[9*(i-1):9*i]\n",
    "    \n",
    "        mvYRrank = mvinfo[0].text\n",
    "        \n",
    "        if mvinfo[1].find('a') is None: \n",
    "            mvID = mvinfo[1].text\n",
    "        else:\n",
    "            mvID = mvinfo[1].find('a')['href'][12:-4]\n",
    "        \n",
    "        mvName = mvinfo[1].text\n",
    "        \n",
    "        pdtStudio = mvinfo[2].find('a')['href'][22:-4]\n",
    "        \n",
    "        totDGross = int(mvinfo[3].text.replace('$','').replace(',',''))\n",
    "        \n",
    "        if mvinfo[4].text!='N/A':\n",
    "            totDTheatre = int(mvinfo[4].text.replace(',',''))\n",
    "        else:\n",
    "            totDTheatre = np.nan\n",
    "\n",
    "        if mvinfo[5].text!='N/A':\n",
    "            oDGross = int(mvinfo[5].text.replace('$','').replace(',',''))\n",
    "        else:\n",
    "            oDGross = np.nan\n",
    "            \n",
    "        if mvinfo[6].text!='N/A':\n",
    "            oDTheatre = int(mvinfo[6].text.replace(',',''))\n",
    "        else:\n",
    "            oDTheatre = np.nan            \n",
    "    \n",
    "        if mvinfo[7].text!='-' and mvinfo[7].text!='Jan':\n",
    "            oWkmd = dt.datetime.strptime((Year + '/' + mvinfo[7].text),'%Y/%m/%d')\n",
    "            #dt.datetime.strptime(Year + '/' + mvinfo[7].find('a').text,'%m/%d')\n",
    "        else:\n",
    "            oWkmd = np.nan\n",
    "    \n",
    "        if int(Year) > 2001:\n",
    "            if mvinfo[8].text!='-' and mvinfo[8].text != '2/29' and mvinfo[8].text !='2':\n",
    "                cWkmd = dt.datetime.strptime((Year + '/' + mvinfo[8].text),'%Y/%m/%d')\n",
    "                #dt.datetime.strptime(mvinfo[8].find('a').text,'%m/%d')\n",
    "            else:\n",
    "                cWkmd = np.nan\n",
    "        else:\n",
    "            cWkmd = np.nan\n",
    "    \n",
    "        movie_dict = dict(zip(headers, [mvYRrank, mvID, mvName, pdtStudio,\n",
    "                                    totDGross, totDTheatre,\n",
    "                                    oDGross, oDTheatre,\n",
    "                                    oWkmd, cWkmd]))\n",
    "        mv_list.append(movie_dict)\n",
    "        \n",
    "        #time.sleep(2)"
   ]
  },
  {
   "cell_type": "code",
   "execution_count": null,
   "metadata": {
    "collapsed": false
   },
   "outputs": [],
   "source": [
    "len(mv_list) , mvCnt"
   ]
  },
  {
   "cell_type": "code",
   "execution_count": null,
   "metadata": {
    "collapsed": false
   },
   "outputs": [],
   "source": [
    "mv_listDF = pd.DataFrame(mv_list, columns=headers)"
   ]
  },
  {
   "cell_type": "code",
   "execution_count": null,
   "metadata": {
    "collapsed": true
   },
   "outputs": [],
   "source": [
    "mv_listDF.to_csv('mv_chartListDF_2016_1980.csv')"
   ]
  },
  {
   "cell_type": "code",
   "execution_count": null,
   "metadata": {
    "collapsed": true
   },
   "outputs": [],
   "source": [
    ""
   ]
  },
  {
   "cell_type": "code",
   "execution_count": null,
   "metadata": {
    "collapsed": false,
    "scrolled": false
   },
   "outputs": [],
   "source": [
    "mv_listDF=pd.read_csv('mv_chartListDF_2016_1980.csv')"
   ]
  },
  {
   "cell_type": "code",
   "execution_count": null,
   "metadata": {
    "collapsed": false
   },
   "outputs": [],
   "source": [
    "mv_listDF.dtypes"
   ]
  },
  {
   "cell_type": "code",
   "execution_count": null,
   "metadata": {
    "collapsed": false
   },
   "outputs": [],
   "source": [
    "# mv_listDF.mName.sort_values() #.sort_values(ascending=False).reset_index().head(500)"
   ]
  },
  {
   "cell_type": "code",
   "execution_count": null,
   "metadata": {
    "collapsed": true
   },
   "outputs": [],
   "source": [
    "mv_listDF.mID.sort_values().reset_index().iloc"
   ]
  },
  {
   "cell_type": "code",
   "execution_count": null,
   "metadata": {
    "collapsed": true
   },
   "outputs": [],
   "source": [
    ""
   ]
  },
  {
   "cell_type": "code",
   "execution_count": null,
   "metadata": {
    "collapsed": true
   },
   "outputs": [],
   "source": [
    ""
   ]
  },
  {
   "cell_type": "code",
   "execution_count": null,
   "metadata": {
    "collapsed": true
   },
   "outputs": [],
   "source": [
    ""
   ]
  },
  {
   "cell_type": "code",
   "execution_count": null,
   "metadata": {
    "collapsed": true
   },
   "outputs": [],
   "source": [
    ""
   ]
  },
  {
   "cell_type": "code",
   "execution_count": null,
   "metadata": {
    "collapsed": true
   },
   "outputs": [],
   "source": [
    "# PGresponse = requests.get(\"http://www.boxofficemojo.com/yearly/chart/?page=1&view=releasedate&view2=domestic&yr=2016&p=.htm\")\n",
    "# PGresponse = requests.get(\"http://www.boxofficemojo.com/yearly/chart/?page=2&view=releasedate&view2=domestic&yr=2016&p=.htm\")"
   ]
  },
  {
   "cell_type": "code",
   "execution_count": null,
   "metadata": {
    "collapsed": false
   },
   "outputs": [],
   "source": [
    "# PGresponse.status_code"
   ]
  },
  {
   "cell_type": "code",
   "execution_count": null,
   "metadata": {
    "collapsed": false,
    "scrolled": true
   },
   "outputs": [],
   "source": [
    "# soup = BeautifulSoup(PGresponse.text,'lxml')\n",
    "\n",
    "#view-source:https://en.wikipedia.org/wiki/List_of_highest-grossing_films\n",
    "#line92\n",
    "\n",
    "# movie_list = soup.find(\"table\",{ \"class\" : \"wikitable sortable plainrowheaders\" })\n",
    "# print(movie_list)"
   ]
  },
  {
   "cell_type": "code",
   "execution_count": null,
   "metadata": {
    "collapsed": true
   },
   "outputs": [],
   "source": [
    ""
   ]
  },
  {
   "cell_type": "code",
   "execution_count": null,
   "metadata": {
    "collapsed": false
   },
   "outputs": [],
   "source": [
    "# pg_tmp = soup.find_all('center')[0].find_all('a')"
   ]
  },
  {
   "cell_type": "code",
   "execution_count": null,
   "metadata": {
    "collapsed": false
   },
   "outputs": [],
   "source": [
    "# pg_range = \n",
    "# pg_tmp[0].text.replace('#','').replace('\\x96','')"
   ]
  },
  {
   "cell_type": "code",
   "execution_count": null,
   "metadata": {
    "collapsed": false
   },
   "outputs": [],
   "source": [
    "# pg_rangeSTR = pg_tmp[0].text.replace('#','').replace('\\x96','')\n",
    "# pgS,pgE = (pg_rangeSTR[:3],pg_rangeSTR[3:])\n",
    "# # pgRange\n",
    "# pgS, pgE"
   ]
  },
  {
   "cell_type": "code",
   "execution_count": null,
   "metadata": {
    "collapsed": true
   },
   "outputs": [],
   "source": [
    ""
   ]
  },
  {
   "cell_type": "code",
   "execution_count": null,
   "metadata": {
    "collapsed": false
   },
   "outputs": [],
   "source": [
    "# soup.find_all('center')[0].find_all('a')[0]['href']\n",
    "# pgList = [ p['href'] for p in pg_tmp]"
   ]
  },
  {
   "cell_type": "code",
   "execution_count": null,
   "metadata": {
    "collapsed": false
   },
   "outputs": [],
   "source": [
    "# pgList"
   ]
  },
  {
   "cell_type": "code",
   "execution_count": null,
   "metadata": {
    "collapsed": true
   },
   "outputs": [],
   "source": [
    ""
   ]
  },
  {
   "cell_type": "code",
   "execution_count": null,
   "metadata": {
    "collapsed": true
   },
   "outputs": [],
   "source": [
    "# Rank, MovieID, MovieTitle, Studio, TotalDomGross, TDG_Theaters, OpeningGross, OG_Theaters, Open, Close"
   ]
  },
  {
   "cell_type": "code",
   "execution_count": null,
   "metadata": {
    "collapsed": false,
    "scrolled": true
   },
   "outputs": [],
   "source": [
    "# tableInfo=soup.find_all('table')[3].find_all('font')[14:914]## 9 lines for each of the table columns *100 rows"
   ]
  },
  {
   "cell_type": "code",
   "execution_count": null,
   "metadata": {
    "collapsed": false
   },
   "outputs": [],
   "source": [
    "# tableInfo"
   ]
  },
  {
   "cell_type": "code",
   "execution_count": null,
   "metadata": {
    "collapsed": false
   },
   "outputs": [],
   "source": [
    "# tabcolN=9\n",
    "# mv_list=[]\n",
    "\n",
    "# headers = ['mNo','mID', 'mName', 'mStudio', \n",
    "#            'totalDGross', 'totalDTheatre', \n",
    "#            'openDGross','openDTheatre', \n",
    "#            'openWkdate', 'closeWkdate']\n",
    "\n",
    "# Year='2016'\n",
    "\n",
    "# for i in range(1,101): #(1,3): #\n",
    "#     mvinfo = tableInfo[9*(i-1):9*i]\n",
    "    \n",
    "#     mvN = mvinfo[0].text\n",
    "#     mvID = mvinfo[1].find('a')['href'][12:-4]\n",
    "#     mvName = mvinfo[1].text\n",
    "#     pdtStudio = mvinfo[2].find('a')['href'][22:-4]\n",
    "#     totDGross = int(mvinfo[3].text.replace('$','').replace(',',''))\n",
    "#     totDTheatre = int(mvinfo[4].text.replace(',',''))\n",
    "#     oDGross = int(mvinfo[5].text.replace('$','').replace(',',''))\n",
    "#     oDTheatre = int(mvinfo[6].text.replace(',',''))\n",
    "    \n",
    "#     if mvinfo[7].text!='-':\n",
    "#         oWkmd = dt.datetime.strptime((Year + '/' + mvinfo[7].text),'%Y/%m/%d')\n",
    "#         #dt.datetime.strptime(Year + '/' + mvinfo[7].find('a').text,'%m/%d')\n",
    "#     else:\n",
    "#         oWkmd = np.nan\n",
    "    \n",
    "#     if mvinfo[8].text!='-':\n",
    "#         cWkmd = dt.datetime.strptime((Year + '/' + mvinfo[8].text),'%Y/%m/%d')\n",
    "#         #dt.datetime.strptime(mvinfo[8].find('a').text,'%m/%d')\n",
    "#     else:\n",
    "#         cWkmd = np.nan\n",
    "    \n",
    "    \n",
    "#     movie_dict = dict(zip(headers, [mvN, mvID, mvName, pdtStudio,\n",
    "#                                     totDGross, totDTheatre,\n",
    "#                                     oDGross, oDTheatre,\n",
    "#                                     oWkmd, cWkmd]))\n",
    "#     mv_list.append(movie_dict)"
   ]
  },
  {
   "cell_type": "code",
   "execution_count": null,
   "metadata": {
    "collapsed": true
   },
   "outputs": [],
   "source": [
    "# headers = ['movie title',\n",
    "#            'release date', 'runtime (mins)', 'rating' , 'production budget', 'domestic total gross']\n",
    "\n",
    "# movie_data1 = []\n",
    "# movie_dict = dict(zip(headers, [title,                                \n",
    "#                                 release_date,\n",
    "#                                 runtime,\n",
    "#                                 rating,\n",
    "#                                 prdbudget,\n",
    "#                                 domestic_total_gross]))\n",
    "# movie_data1.append(movie_dict)\n",
    "\n",
    "# pprint(movie_data1)"
   ]
  },
  {
   "cell_type": "code",
   "execution_count": null,
   "metadata": {
    "collapsed": true
   },
   "outputs": [],
   "source": [
    ""
   ]
  },
  {
   "cell_type": "code",
   "execution_count": null,
   "metadata": {
    "collapsed": false
   },
   "outputs": [],
   "source": [
    "# pd.isnull((np.nan)) #True"
   ]
  },
  {
   "cell_type": "code",
   "execution_count": null,
   "metadata": {
    "collapsed": false,
    "scrolled": false
   },
   "outputs": [],
   "source": [
    "# soup.find_all('table')[3].find_all('a')\n",
    "## find all href that has /movies/"
   ]
  },
  {
   "cell_type": "code",
   "execution_count": null,
   "metadata": {
    "collapsed": true
   },
   "outputs": [],
   "source": [
    ""
   ]
  },
  {
   "cell_type": "code",
   "execution_count": null,
   "metadata": {
    "collapsed": true
   },
   "outputs": [],
   "source": [
    ""
   ]
  },
  {
   "cell_type": "code",
   "execution_count": null,
   "metadata": {
    "collapsed": true
   },
   "outputs": [],
   "source": [
    ""
   ]
  },
  {
   "cell_type": "code",
   "execution_count": null,
   "metadata": {
    "collapsed": false
   },
   "outputs": [],
   "source": [
    "import pandas as pd\n",
    "\n",
    "test=pd.read_html('http://www.the-numbers.com/movie/records/Biggest-Domestic-Weekends')"
   ]
  },
  {
   "cell_type": "code",
   "execution_count": null,
   "metadata": {
    "collapsed": false
   },
   "outputs": [],
   "source": [
    "test[0].columns = ['Rank','Date','mvName','Gross','Theaters','PerTheater','TotGross','Days']"
   ]
  },
  {
   "cell_type": "code",
   "execution_count": null,
   "metadata": {
    "collapsed": true
   },
   "outputs": [],
   "source": [
    "df = test[0]"
   ]
  },
  {
   "cell_type": "code",
   "execution_count": null,
   "metadata": {
    "collapsed": false,
    "scrolled": true
   },
   "outputs": [],
   "source": [
    "df.dtypes"
   ]
  },
  {
   "cell_type": "code",
   "execution_count": null,
   "metadata": {
    "collapsed": false
   },
   "outputs": [],
   "source": [
    "import datetime\n",
    "\n",
    "df['Date']=pd.to_datetime(df.Date)"
   ]
  },
  {
   "cell_type": "code",
   "execution_count": null,
   "metadata": {
    "collapsed": false
   },
   "outputs": [],
   "source": [
    "df['mvName'] = df.mvName.apply(lambda x: str(x))"
   ]
  },
  {
   "cell_type": "code",
   "execution_count": null,
   "metadata": {
    "collapsed": false
   },
   "outputs": [],
   "source": [
    "df['Gross'] = df.Gross.apply(lambda x: int(x.replace('$','').replace(',','')))"
   ]
  },
  {
   "cell_type": "code",
   "execution_count": null,
   "metadata": {
    "collapsed": true
   },
   "outputs": [],
   "source": [
    "df['PerTheater'] = df.PerTheater.apply(lambda x: int(x.replace('$','').replace(',','')))"
   ]
  },
  {
   "cell_type": "code",
   "execution_count": null,
   "metadata": {
    "collapsed": true
   },
   "outputs": [],
   "source": [
    "df['TotGross'] = df.TotGross.apply(lambda x: int(x.replace('$','').replace(',','')))"
   ]
  },
  {
   "cell_type": "code",
   "execution_count": null,
   "metadata": {
    "collapsed": false
   },
   "outputs": [],
   "source": [
    "df.dtypes"
   ]
  },
  {
   "cell_type": "code",
   "execution_count": null,
   "metadata": {
    "collapsed": false
   },
   "outputs": [],
   "source": [
    "# del df2"
   ]
  },
  {
   "cell_type": "code",
   "execution_count": null,
   "metadata": {
    "collapsed": false
   },
   "outputs": [],
   "source": [
    "# df"
   ]
  },
  {
   "cell_type": "code",
   "execution_count": null,
   "metadata": {
    "collapsed": false
   },
   "outputs": [],
   "source": [
    "# df2=df.drop_duplicates(['mvName'])"
   ]
  },
  {
   "cell_type": "code",
   "execution_count": null,
   "metadata": {
    "collapsed": false,
    "scrolled": false
   },
   "outputs": [],
   "source": [
    "# df2"
   ]
  },
  {
   "cell_type": "code",
   "execution_count": null,
   "metadata": {
    "collapsed": true
   },
   "outputs": [],
   "source": [
    ""
   ]
  },
  {
   "cell_type": "code",
   "execution_count": null,
   "metadata": {
    "collapsed": true
   },
   "outputs": [],
   "source": [
    ""
   ]
  },
  {
   "cell_type": "code",
   "execution_count": null,
   "metadata": {
    "collapsed": false
   },
   "outputs": [],
   "source": [
    "# test[0][test[0].notnull()]\n",
    "\n",
    "# nms.dropna(thresh=2)\n",
    "tmp=pd.read_html('http://www.the-numbers.com/movie/budgets/all')\n",
    "tmp0=tmp[0].dropna(thresh=2)[1:]\n",
    "budgetPD=tmp0.iloc[:,1:6]"
   ]
  },
  {
   "cell_type": "code",
   "execution_count": null,
   "metadata": {
    "collapsed": false
   },
   "outputs": [],
   "source": [
    "budgetPD.columns = ['ReleaseDate', 'mvName', 'ProdBudget', 'DGross', 'WwGross']"
   ]
  },
  {
   "cell_type": "code",
   "execution_count": null,
   "metadata": {
    "collapsed": false
   },
   "outputs": [],
   "source": [
    "import datetime\n",
    "budgetPD['ReleaseDate']=pd.to_datetime(budgetPD.ReleaseDate)"
   ]
  },
  {
   "cell_type": "code",
   "execution_count": null,
   "metadata": {
    "collapsed": false
   },
   "outputs": [],
   "source": [
    "budgetPD['mvName'] = budgetPD.mvName.apply(lambda x: str(x)) \n",
    "\n",
    "budgetPD['ProdBudget'] = budgetPD.ProdBudget.apply(lambda x: int(x.replace('$','').replace(',',''))) \n",
    "\n",
    "budgetPD['DGross'] = budgetPD.DGross.apply(lambda x: int(x.replace('$','').replace(',',''))) \n",
    "\n",
    "budgetPD['WwGross'] = budgetPD.WwGross.apply(lambda x: int(x.replace('$','').replace(',','')))"
   ]
  },
  {
   "cell_type": "code",
   "execution_count": null,
   "metadata": {
    "collapsed": true
   },
   "outputs": [],
   "source": [
    "# del n1"
   ]
  },
  {
   "cell_type": "code",
   "execution_count": null,
   "metadata": {
    "collapsed": false
   },
   "outputs": [],
   "source": [
    "budgetPD.sort_values(by=['WwGross'], ascending=False)\n",
    "budgetPD2 = budgetPD[budgetPD['DGross']>0]\n",
    "budgetPD2"
   ]
  },
  {
   "cell_type": "code",
   "execution_count": null,
   "metadata": {
    "collapsed": false
   },
   "outputs": [],
   "source": [
    "len(budgetPD2.ReleaseDate.sort_values()[245:])"
   ]
  },
  {
   "cell_type": "code",
   "execution_count": null,
   "metadata": {
    "collapsed": false
   },
   "outputs": [],
   "source": [
    "budgetPD2.ReleaseDate.sort_values()[245:]"
   ]
  },
  {
   "cell_type": "code",
   "execution_count": null,
   "metadata": {
    "collapsed": true
   },
   "outputs": [],
   "source": [
    ""
   ]
  },
  {
   "cell_type": "code",
   "execution_count": null,
   "metadata": {
    "collapsed": false
   },
   "outputs": [],
   "source": [
    "np.where(budgetPD2.mvName=='Finding Dory')"
   ]
  },
  {
   "cell_type": "code",
   "execution_count": null,
   "metadata": {
    "collapsed": false
   },
   "outputs": [],
   "source": [
    "budgetPD2.iloc[34,:]"
   ]
  },
  {
   "cell_type": "code",
   "execution_count": null,
   "metadata": {
    "collapsed": false
   },
   "outputs": [],
   "source": [
    "budgetPD2.iloc[34,:].ProdBudget"
   ]
  },
  {
   "cell_type": "code",
   "execution_count": null,
   "metadata": {
    "collapsed": false
   },
   "outputs": [],
   "source": [
    "# test=budgetPD2\n",
    "# test"
   ]
  },
  {
   "cell_type": "code",
   "execution_count": null,
   "metadata": {
    "collapsed": false
   },
   "outputs": [],
   "source": [
    "test.dtypes"
   ]
  },
  {
   "cell_type": "code",
   "execution_count": null,
   "metadata": {
    "collapsed": false
   },
   "outputs": [],
   "source": [
    "# test['mvName']=test['mvName'].astype('str')"
   ]
  },
  {
   "cell_type": "code",
   "execution_count": null,
   "metadata": {
    "collapsed": false
   },
   "outputs": [],
   "source": [
    "test.dtypes"
   ]
  },
  {
   "cell_type": "code",
   "execution_count": null,
   "metadata": {
    "collapsed": false
   },
   "outputs": [],
   "source": [
    "# test.join(df2, on=['mvName'], how='left', lsuffix='r_') ## doesn't work"
   ]
  },
  {
   "cell_type": "code",
   "execution_count": null,
   "metadata": {
    "collapsed": false
   },
   "outputs": [],
   "source": [
    "mv_listDF"
   ]
  },
  {
   "cell_type": "code",
   "execution_count": null,
   "metadata": {
    "collapsed": true
   },
   "outputs": [],
   "source": [
    ""
   ]
  },
  {
   "cell_type": "code",
   "execution_count": null,
   "metadata": {
    "collapsed": true
   },
   "outputs": [],
   "source": [
    ""
   ]
  },
  {
   "cell_type": "code",
   "execution_count": null,
   "metadata": {
    "collapsed": true
   },
   "outputs": [],
   "source": [
    ""
   ]
  },
  {
   "cell_type": "code",
   "execution_count": null,
   "metadata": {
    "collapsed": true
   },
   "outputs": [],
   "source": [
    ""
   ]
  },
  {
   "cell_type": "code",
   "execution_count": null,
   "metadata": {
    "collapsed": true
   },
   "outputs": [],
   "source": [
    ""
   ]
  },
  {
   "cell_type": "code",
   "execution_count": null,
   "metadata": {
    "collapsed": true
   },
   "outputs": [],
   "source": [
    ""
   ]
  },
  {
   "cell_type": "code",
   "execution_count": null,
   "metadata": {
    "collapsed": false
   },
   "outputs": [],
   "source": [
    "mojopgDF=pd.read_html('http://www.boxofficemojo.com/movies/?id=pixar2015.htm')"
   ]
  },
  {
   "cell_type": "code",
   "execution_count": null,
   "metadata": {
    "collapsed": true
   },
   "outputs": [],
   "source": [
    "mojopgDF=pd.read_html('http://www.boxofficemojo.com/movies/?id=junglebook2015.htm')"
   ]
  },
  {
   "cell_type": "code",
   "execution_count": null,
   "metadata": {
    "collapsed": true
   },
   "outputs": [],
   "source": [
    ""
   ]
  },
  {
   "cell_type": "code",
   "execution_count": null,
   "metadata": {
    "collapsed": false
   },
   "outputs": [],
   "source": [
    "mojopgDF[4]"
   ]
  },
  {
   "cell_type": "code",
   "execution_count": null,
   "metadata": {
    "collapsed": false
   },
   "outputs": [],
   "source": [
    "mojopgDF[5][0][3][13:]"
   ]
  },
  {
   "cell_type": "code",
   "execution_count": null,
   "metadata": {
    "collapsed": false
   },
   "outputs": [],
   "source": [
    "\"\".join((mojopgDF[5][1][2][8:].split('hrs.')[0].replace(' ','') , ':', mojopgDF[5][1][2][8:].split('hrs.')[1].replace('min.','').replace(' ','') ))"
   ]
  },
  {
   "cell_type": "code",
   "execution_count": null,
   "metadata": {
    "collapsed": false
   },
   "outputs": [],
   "source": [
    "# testtim = \"\".join((mojopgDF[5][1][2][8:].split('hrs.')[0].replace(' ','') , ':', mojopgDF[5][1][2][8:].split('hrs.')[1].replace('min.','').replace(' ','') ,':00'))"
   ]
  },
  {
   "cell_type": "code",
   "execution_count": null,
   "metadata": {
    "collapsed": false
   },
   "outputs": [],
   "source": [
    "# (datetime.datetime.strptime(testtim,'%H:%M:%S'))"
   ]
  },
  {
   "cell_type": "code",
   "execution_count": null,
   "metadata": {
    "collapsed": false
   },
   "outputs": [],
   "source": [
    "H,Min = (int(mojopgDF[5][1][2][8:].split('hrs.')[0].replace(' ','')) , int(mojopgDF[5][1][2][8:].split('hrs.')[1].replace('min.','').replace(' ','') )  )"
   ]
  },
  {
   "cell_type": "code",
   "execution_count": null,
   "metadata": {
    "collapsed": false
   },
   "outputs": [],
   "source": [
    "H*60+Min"
   ]
  },
  {
   "cell_type": "code",
   "execution_count": null,
   "metadata": {
    "collapsed": false
   },
   "outputs": [],
   "source": [
    "mojopgDF[5]"
   ]
  },
  {
   "cell_type": "code",
   "execution_count": null,
   "metadata": {
    "collapsed": false,
    "scrolled": false
   },
   "outputs": [],
   "source": [
    "mojopgDF[9].shape , mojopgDF[10].shape"
   ]
  },
  {
   "cell_type": "code",
   "execution_count": null,
   "metadata": {
    "collapsed": false
   },
   "outputs": [],
   "source": [
    "GrossInfo = mojopgDF[10]\n",
    "GrossInfo"
   ]
  },
  {
   "cell_type": "code",
   "execution_count": null,
   "metadata": {
    "collapsed": false
   },
   "outputs": [],
   "source": [
    "# dGross \n",
    "# GrossInfo[1][0].replace('$','').replace(',','')"
   ]
  },
  {
   "cell_type": "code",
   "execution_count": null,
   "metadata": {
    "collapsed": false
   },
   "outputs": [],
   "source": [
    "# ForeignGross \n",
    "GrossInfo[1][1].replace('$','').replace(',','')"
   ]
  },
  {
   "cell_type": "code",
   "execution_count": null,
   "metadata": {
    "collapsed": false
   },
   "outputs": [],
   "source": [
    "# TotalGross \n",
    "GrossInfo[1][3].replace('$','').replace(',','')"
   ]
  },
  {
   "cell_type": "code",
   "execution_count": null,
   "metadata": {
    "collapsed": true
   },
   "outputs": [],
   "source": [
    ""
   ]
  },
  {
   "cell_type": "code",
   "execution_count": null,
   "metadata": {
    "collapsed": false
   },
   "outputs": [],
   "source": [
    "# mojopgDF[10] #Opening Weekend:\t$135,060,273"
   ]
  },
  {
   "cell_type": "code",
   "execution_count": null,
   "metadata": {
    "collapsed": false
   },
   "outputs": [],
   "source": [
    "# mojopgDF[11] #Widest Release:\t4,305 theaters"
   ]
  },
  {
   "cell_type": "code",
   "execution_count": null,
   "metadata": {
    "collapsed": false
   },
   "outputs": [],
   "source": [
    "mojopgDF[12] \n",
    "mojopgDF[14]"
   ]
  },
  {
   "cell_type": "code",
   "execution_count": null,
   "metadata": {
    "collapsed": false
   },
   "outputs": [],
   "source": [
    "mojopgDF[13]"
   ]
  },
  {
   "cell_type": "code",
   "execution_count": null,
   "metadata": {
    "collapsed": false
   },
   "outputs": [],
   "source": [
    "mojopgDF[13][1][0].split('(co-director)')"
   ]
  },
  {
   "cell_type": "code",
   "execution_count": null,
   "metadata": {
    "collapsed": false
   },
   "outputs": [],
   "source": [
    "mojopgDF[13][1][3]"
   ]
  },
  {
   "cell_type": "code",
   "execution_count": null,
   "metadata": {
    "collapsed": false
   },
   "outputs": [],
   "source": [
    "mojopgDF[14]"
   ]
  },
  {
   "cell_type": "code",
   "execution_count": null,
   "metadata": {
    "collapsed": true
   },
   "outputs": [],
   "source": [
    ""
   ]
  }
 ],
 "metadata": {
  "kernelspec": {
   "display_name": "Python 3",
   "language": "python",
   "name": "python3"
  },
  "language_info": {
   "codemirror_mode": {
    "name": "ipython",
    "version": 3.0
   },
   "file_extension": ".py",
   "mimetype": "text/x-python",
   "name": "python",
   "nbconvert_exporter": "python",
   "pygments_lexer": "ipython3",
   "version": "3.5.2"
  }
 },
 "nbformat": 4,
 "nbformat_minor": 0
}